{
 "cells": [
  {
   "cell_type": "code",
   "execution_count": 3,
   "metadata": {},
   "outputs": [],
   "source": [
    "from enum import Enum\n",
    "import random"
   ]
  },
  {
   "cell_type": "code",
   "execution_count": 13,
   "metadata": {},
   "outputs": [],
   "source": [
    "# 0 for wall\n",
    "# 1 for empty\n",
    "\n",
    "class Maze():\n",
    "    class disjoint_set_union():\n",
    "        def __init__(self, size):\n",
    "            self.parent = [i for i in range(size)]\n",
    "            self.set_size = [i for i in range(size)]\n",
    "            \n",
    "        def find(self, v):\n",
    "            if self.parent[v] == v:\n",
    "                return v\n",
    "            self.parent[v] = find(self.parent[v])\n",
    "            return self.parent[v]\n",
    "        \n",
    "        def union(self, u, v):\n",
    "            u = self.find(u)\n",
    "            v = self.find(v)\n",
    "            if u != v:\n",
    "                if self.size[v] < self.size[u]:\n",
    "                    u, v = v, u\n",
    "                self.parent[u] = v\n",
    "                self.size[v] += self.size[u]\n",
    "    \n",
    "    class Bitset():\n",
    "        def __init__(self):\n",
    "            self.directions = 0\n",
    "            # 1 is up, 2 is down, 3 is left, 4 is right\n",
    "        \n",
    "        def __contains__(self, direction):\n",
    "            return (self.directions & (1 << direction)) != 0\n",
    "        \n",
    "        def add_direction(self, direction: str):\n",
    "            self.directions |= (1 << direction)\n",
    "    \n",
    "    def build_maze(self):\n",
    "        edge_graph = []\n",
    "        for i in range(len(self.grid)):\n",
    "            for j in range(len(self.grid[0]) - 1):\n",
    "                edge_graph.append((j + i * len(self.grid[0]), j + 1 + i * len(self.grid[0])))\n",
    "        for i in range(len(self.grid) - 1):\n",
    "            for j in range(len(self.grid[0])):\n",
    "                edge_graph.append((j + i * len(self.grid[0]), j + (i + 1) * len(self.grid[0])))\n",
    "                \n",
    "        random.shuffle(edge_graph)\n",
    "        \n",
    "        print(edge_graph)\n",
    "        \n",
    "        for u, v in edge_graph:\n",
    "            if self.disjoint_set.find(u) != self.disjoint_set.find(v):\n",
    "                self.disjoint_set.union(u, v)\n",
    "        \n",
    "                \n",
    "    \n",
    "    def __init__(self, maze_height, maze_width):\n",
    "        self.maze_height = maze_height\n",
    "        self.maze_width = maze_width\n",
    "        self.grid = [[self.Bitset() for j in range(maze_width)] for i in range(maze_height)]\n",
    "        self.disjoint_set = self.disjoint_set_union(maze_height * maze_width)\n",
    "        self.direction = {\"up\" : 1, \"down\" : 2, \"left\" : 3, \"right\" : 4}\n",
    "        self.build_maze()\n",
    "        \n",
    "\n",
    "\n",
    "# m = Maze(10, 10)"
   ]
  }
 ],
 "metadata": {
  "kernelspec": {
   "display_name": "Python 3",
   "language": "python",
   "name": "python3"
  },
  "language_info": {
   "codemirror_mode": {
    "name": "ipython",
    "version": 3
   },
   "file_extension": ".py",
   "mimetype": "text/x-python",
   "name": "python",
   "nbconvert_exporter": "python",
   "pygments_lexer": "ipython3",
   "version": "3.8.3"
  }
 },
 "nbformat": 4,
 "nbformat_minor": 4
}
